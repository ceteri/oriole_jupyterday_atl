{
 "cells": [
  {
   "cell_type": "markdown",
   "metadata": {
    "slideshow": {
     "slide_type": "slide"
    }
   },
   "source": [
    "# Oriole: a new learning medium<br>&nbsp; based on Jupyter + Docker\n",
    "\n",
    "*[JupyterDay Atlanta](https://jupyterday-atlanta-2016.github.io/), 2016-08-13*\n",
    "\n",
    "**Paco Nathan** @pacoid\n",
    "[liber118.com/pxn](http://liber118.com/pxn/)  \n",
    "Director, Learning Group @ **[O’Reilly Media](https://oreilly.com/learning/)**\n",
    "\n",
    "[![Jupyter](jupyter.png)](https://jupyter.org/)\n",
    "\n",
    "https://github.com/ceteri/oriole_jupyterday_atl  \n",
    "[CC BY-NC-SA 4.0](https://creativecommons.org/licenses/by-nc-sa/4.0/)"
   ]
  },
  {
   "cell_type": "markdown",
   "metadata": {
    "slideshow": {
     "slide_type": "notes"
    }
   },
   "source": [
    "30 min\n"
   ]
  },
  {
   "cell_type": "markdown",
   "metadata": {
    "slideshow": {
     "slide_type": "slide"
    }
   },
   "source": [
    "## Abstract\n",
    "\n",
    "[O’Reilly Media](https://oreilly.com/learning/) needed to provide a way for authors to use [Jupyter notebooks](https://jupyter.org/) to create professional publications. We also wanted to integrate video narration into the UX. The result is a unique new learning medium called [Oriole](https://www.safaribooksonline.com/oriole/), where:\n",
    "* Jupyter notebooks are used in the middleware\n",
    "* each viewer gets a 100% HTML experience (no download/install needed)\n",
    "* the code and video are sync’ed together\n",
    "* each web session has a Docker container running in the cloud\n",
    "\n",
    "Tutorials are now much quicker to publish than “traditional” books and videos. This talk show examples and examines the system architecture built from open source projects. We’ll review feedback from authors working in this medium, i.e., how to teach more effectively through the combination of video + notebooks + containers.\n",
    "\n",
    "[![about](orm-about.png)](http://www.oreilly.com/animals.html)"
   ]
  },
  {
   "cell_type": "markdown",
   "metadata": {
    "slideshow": {
     "slide_type": "slide"
    }
   },
   "source": [
    "## Living and working in apple orchards\n",
    "\n",
    "These beautiful *chiltota* migrate each year from Central America<br> to nest in our local orchards\n",
    "\n",
    "[![Chiltota](chiltota.png)](https://www.oreilly.com/ideas/oreilly-oriole-learn-alongside-innovators-thought-by-thought-in-context)"
   ]
  },
  {
   "cell_type": "markdown",
   "metadata": {
    "slideshow": {
     "slide_type": "slide"
    }
   },
   "source": [
    "## Context\n",
    "\n",
    "**Les Guessing** posed [an interesting question](https://twitter.com/LesGuessing/status/746843662202474496) earlier this year on Twitter: \n",
    "\n",
    "> Surprised how data \"Storytelling\" mostly talks about visualization, not video or other great storytelling mediums."
   ]
  },
  {
   "cell_type": "markdown",
   "metadata": {
    "collapsed": true,
    "slideshow": {
     "slide_type": "slide"
    }
   },
   "source": [
    "## For example...\n",
    "\n",
    "*Regex Golf* by **Peter Norvig**  \n",
    "[https://www.oreilly.com/learning/regex-golf-with-peter-norvig](https://www.oreilly.com/learning/regex-golf-with-peter-norvig)\n",
    "\n",
    "![tutorial](peter_norvig.png)"
   ]
  },
  {
   "cell_type": "markdown",
   "metadata": {
    "slideshow": {
     "slide_type": "slide"
    }
   },
   "source": [
    "[![Fernando's quote about Oriole](./fernando.jpg)](https://www.oreilly.com/ideas/oreilly-oriole-learn-alongside-innovators-thought-by-thought-in-context)"
   ]
  },
  {
   "cell_type": "markdown",
   "metadata": {
    "slideshow": {
     "slide_type": "slide"
    }
   },
   "source": [
    "## Elements\n",
    "\n",
    "* computable content (kudos to **[Lorena Barba](http://lorenabarba.com/)**) with repeatable results\n",
    "* rich text\n",
    "* informal video narrative, with a timeline\n",
    "* context as a \"unit of thought\"\n",
    "* data visualization/interaction\n",
    "* zero download/install/config\n",
    "* personalized sessions\n",
    "* instrumentation\n",
    "* experimentation"
   ]
  },
  {
   "cell_type": "markdown",
   "metadata": {
    "slideshow": {
     "slide_type": "slide"
    }
   },
   "source": [
    "## Motivations\n",
    "\n",
    "We find that people who are the innovators in programming, data science, dev ops, design, etc., tend to be *really busy people*.\n",
    "So it's great to streamline how we develop content to publish, optimizing the production time to be *weeks instead of months*.\n",
    "\n",
    "We also put ourselves into our audience's role: notebook content provides much more direct, hands-on, *contextualized* experience across a wide variety of programming environments.\n",
    "Meanwhile containers obviate the need for many people having to spend the first 40 minutes of a 3-hour conference tutorial fussing with downloads.\n",
    "\n",
    "Plus, we really like to apply interesting new technologies in media for learning, mixing up what's possible.\n",
    "\n",
    "What insights and experiences could we share back to the community, as [Jupyter](https://jupyter.org/) evolves?\n",
    "Oriole's just a starting point for O'Reilly, and we look forward to many other kinds of integrations for Jupyter in media."
   ]
  },
  {
   "cell_type": "markdown",
   "metadata": {
    "slideshow": {
     "slide_type": "slide"
    }
   },
   "source": [
    "## A notebook, a container, and ~20 minutes of informal video<br>&nbsp; walk into a bar...\n",
    "\n",
    "with an open source project called [Thebe](https://github.com/oreillymedia/thebe) in the midst\n",
    "\n",
    "![three layers](layers.png)"
   ]
  },
  {
   "cell_type": "markdown",
   "metadata": {
    "slideshow": {
     "slide_type": "slide"
    }
   },
   "source": [
    "## Jupyter @ O'Reilly Media\n",
    "\n",
    "*Embracing Jupyter Notebooks at O'Reilly*, **Andrew Odewahn**  \n",
    "https://www.oreilly.com/ideas/jupyter-at-oreilly\n",
    "\n",
    "*Oriole Online Tutorials*  \n",
    "https://www.safaribooksonline.com/oriole/\n",
    "\n",
    "*Learn alongside innovators, thought-by-thought, in context*  \n",
    "https://www.oreilly.com/ideas/oreilly-oriole-learn-alongside-innovators-thought-by-thought-in-context"
   ]
  },
  {
   "cell_type": "markdown",
   "metadata": {
    "slideshow": {
     "slide_type": "slide"
    }
   },
   "source": [
    "## Some history\n",
    "\n",
    "*Literate Programming*, **[Don Knuth](http://www-cs-faculty.stanford.edu/~uno/)**  \n",
    "http://www.literateprogramming.com/\n",
    "\n",
    "\n",
    "**Paraphrased:** Instead of telling computers what to do,<br> *tell other people what you want the computers to do*\n",
    "\n",
    "![Don Knuth](don_knuth.jpg)"
   ]
  },
  {
   "cell_type": "markdown",
   "metadata": {
    "slideshow": {
     "slide_type": "slide"
    }
   },
   "source": [
    "## More recently\n",
    "\n",
    "*PyCon 2016 Keynote*, **[Lorena Barba](http://lorenabarba.com/)**  \n",
    "https://www.youtube.com/watch?v=ckW1xuGVpug&feature=youtu.be&t=35m11s (video)  \n",
    "https://figshare.com/articles/PyCon2016_Keynote/3407779 (slides)\n",
    "\n",
    "\n",
    "**Highly recommended:** *speech acts* (based on Winograd and Flores) <br>as theory for what we're doing here\n",
    "![Lorena Barba](lorena.png)"
   ]
  },
  {
   "cell_type": "markdown",
   "metadata": {
    "slideshow": {
     "slide_type": "slide"
    }
   },
   "source": [
    "## What we learned about teaching with notebooks\n",
    "\n",
    "* focus on a concise \"unit of thought\"\n",
    "* invest the time and editorial effort to create a good introduction\n",
    "* keep your narrative simple and reasonably linear\n",
    "* \"chunk\" both the text and the code into understandable parts\n",
    "* alternate between text, code, output, further links, etc.\n",
    "* leverage markdown by providing interesting links for background, deep-dive, etc.\n",
    "* code cells should not be long, < 10 lines\n",
    "* code cells must show that they've run, producing at least *some* output \n",
    "* load data from the container, not the network\n",
    "* clear all output then \"Run All\" -- or it didn't happen\n",
    "* video narratives: there's text, and there's subtext...\n",
    "* pause after each \"beat\" -- smile, breathe, allow people to follow you\n",
    "\n",
    "For the JVM people: stop thinking only about IDEs, Ivy, Maven, etc. (ibid, Knuth1984)  \n",
    "**BUILD UBER JARS, LOAD LIBRARIES FROM THE CONTAINER, NOT THE NETWORK!!!!**  \n",
    "(apologies for the shouting)"
   ]
  },
  {
   "cell_type": "markdown",
   "metadata": {
    "slideshow": {
     "slide_type": "slide"
    }
   },
   "source": [
    "## Next steps\n",
    "\n",
    "Briefly, some perspectives about the nature of *assessment* evolving...\n",
    "and how Oriole and Jupyter in general fit into the big picture"
   ]
  },
  {
   "cell_type": "markdown",
   "metadata": {
    "slideshow": {
     "slide_type": "slide"
    }
   },
   "source": [
    "## Thank you!\n",
    "\n",
    "**[Shannon Cutt](https://twitter.com/ShannonCutt)** and I are here, eager to talk with you about becoming authors for O'Reilly, particularly with Jupyter notebooks in Oriole :)\n",
    "\n",
    "How about some free EPUBs and videos?\n",
    "(will email a link)"
   ]
  }
 ],
 "metadata": {
  "celltoolbar": "Slideshow",
  "kernelspec": {
   "display_name": "Bash",
   "language": "bash",
   "name": "bash"
  },
  "language_info": {
   "codemirror_mode": "shell",
   "file_extension": ".sh",
   "mimetype": "text/x-sh",
   "name": "bash"
  }
 },
 "nbformat": 4,
 "nbformat_minor": 0
}
